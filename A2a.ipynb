{
 "cells": [
  {
   "cell_type": "code",
   "execution_count": null,
   "id": "a1946e1d-32d9-41f5-b7f2-3bc6b687408e",
   "metadata": {},
   "outputs": [],
   "source": [
    "mport pandas as pd\n",
    "import numpy as np\n",
    "import statsmodels.api as sm\n",
    "import statsmodels.formula.api as smf\n",
    "import matplotlib.pyplot as plt"
   ]
  },
  {
   "cell_type": "code",
   "execution_count": null,
   "id": "17997d1d-15ef-432c-9963-cc9bc1a0e58f",
   "metadata": {},
   "outputs": [],
   "source": [
    "Load the dataset\n",
    "match_details = pd.read_csv(\"Cricket_data.csv\")\n"
   ]
  },
  {
   "cell_type": "code",
   "execution_count": null,
   "id": "090b2257-afaf-4044-8995-b233003d2bed",
   "metadata": {},
   "outputs": [],
   "source": [
    "Convert Date column to datetime format\n",
    "match_details['Date'] = pd.to_datetime(match_details['Date'], format='%d-%m-%Y')"
   ]
  },
  {
   "cell_type": "code",
   "execution_count": null,
   "id": "7f304f8b-d364-441d-b7b7-514e19b921a1",
   "metadata": {},
   "outputs": [],
   "source": [
    "Filter last three years of data\n",
    "last_three_years = match_details[match_details['Date'] >= '2022-01-01']"
   ]
  },
  {
   "cell_type": "code",
   "execution_count": null,
   "id": "8f3bfd3e-6ca2-4594-92f7-9f32683a681f",
   "metadata": {},
   "outputs": [],
   "source": [
    "ssuming player_salary data is loaded separately from another file\n",
    "# Clean and transform salary data\n",
    "player_salary = pd.read_excel(\"Player_salary.xlsx\")  # Replace with actual file path\n",
    "\n",
    "# Clean Salary column\n",
    "player_salary['Salary'] = player_salary['Salary'].astype(str).str.replace('s', '')\n",
    "player_salary['Salary'] = player_salary['Salary'].str.replace(',', '')\n",
    "\n",
    "# Convert Salary to numeric, handling 'lakh' and 'crore' suffixes\n",
    "def clean_salary(salary):\n",
    "    if 'lakh' in salary.lower():\n",
    "        return int(float(salary.lower().replace(' lakh', '')) * 100000)\n",
    "    elif 'crore' in salary.lower():\n",
    "        return int(float(salary.lower().replace(' crore', '')) * 10000000)\n",
    "    else:\n",
    "        return int(float(salary))\n",
    "\n",
    "player_salary['Salary'] = player_salary['Salary'].apply(clean_salary)\n",
    "Step 3: Merge Data and Prepare for Regression\n",
    "Merge performance and player_salary dataframes based on player names.\n",
    "\n",
    "python\n",
    "Copy code\n",
    "# Merge performance and player_salary on 'Player' column\n",
    "merged_data = pd.merge(performance, player_salary, on='Player', how='inner')\n",
    "Step 4: Regression Analysis\n",
    "Perform regression analysis using statsmodels.\n",
    "\n",
    "python\n",
    "Copy code\n",
    "# Define X and y\n",
    "X = merged_data[['Balls_Faced', 'Total_Runs']]\n",
    "y = merged_data['Salary']\n",
    "\n",
    "# Add constant to X for intercept\n",
    "X = sm.add_constant(X)\n",
    "\n",
    "# Fit the OLS (Ordinary Least Squares) model\n",
    "model = sm.OLS(y, X).fit()\n",
    "\n",
    "# Print model summary\n",
    "print(model.summary())\n",
    "Step 5: Visualize Data\n",
    "Visualize the relationship between Balls_Faced and Total_Runs with a regression line.\n",
    "\n",
    "python\n",
    "Copy code\n",
    "# Scatter plot with regression line\n",
    "plt.figure(figsize=(10, 6))\n",
    "plt.scatter(merged_data['Balls_Faced'], merged_data['Total_Runs'], label='Data points')\n",
    "plt.plot(merged_data['Balls_Faced'], model.predict(X), color='red', label='Regression line')\n",
    "plt.xlabel('Balls Faced')\n",
    "plt.ylabel('Total Runs')\n",
    "plt.title('Relationship between Balls Faced and Total Runs')\n",
    "plt.legend()\n",
    "plt.grid(True)\n",
    "plt.show()"
   ]
  }
 ],
 "metadata": {
  "kernelspec": {
   "display_name": "Python 3 (ipykernel)",
   "language": "python",
   "name": "python3"
  },
  "language_info": {
   "codemirror_mode": {
    "name": "ipython",
    "version": 3
   },
   "file_extension": ".py",
   "mimetype": "text/x-python",
   "name": "python",
   "nbconvert_exporter": "python",
   "pygments_lexer": "ipython3",
   "version": "3.12.4"
  }
 },
 "nbformat": 4,
 "nbformat_minor": 5
}
